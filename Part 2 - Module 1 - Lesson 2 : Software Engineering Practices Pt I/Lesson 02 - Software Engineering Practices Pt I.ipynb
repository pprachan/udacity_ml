{
 "cells": [
  {
   "cell_type": "code",
   "execution_count": 1,
   "metadata": {},
   "outputs": [],
   "source": [
    "import pandas as pd \n",
    "import numpy as np\n",
    "import matplotlib.pyplot as plt\n",
    "from IPython.core.interactiveshell import InteractiveShell \n",
    "InteractiveShell.ast_node_interactivity = \"all\""
   ]
  },
  {
   "cell_type": "markdown",
   "metadata": {},
   "source": [
    "# Quiz: Refactoring - Wine Quality"
   ]
  },
  {
   "cell_type": "markdown",
   "metadata": {},
   "source": [
    "# Quiz: Optimizing - Common Books"
   ]
  },
  {
   "cell_type": "markdown",
   "metadata": {},
   "source": [
    "We want to find all the coding books published within the last two years"
   ]
  },
  {
   "cell_type": "markdown",
   "metadata": {},
   "source": [
    "**`with` statement in Python**\n",
    "\n",
    "* Give access to a file by opening it.\n",
    "    using open() function: Open returns a file object, which has methods and attributes for getting information about and manipulating the open file.\n",
    "* `with` statement has better syntax and exceptions handling\n",
    "    simplified excepttion handling by encapsulating commong preparation and cleanup tasks. In addition, it will automatically close the file. The with statement provides a way for ensuring that a clean-up is always used."
   ]
  },
  {
   "cell_type": "code",
   "execution_count": 2,
   "metadata": {},
   "outputs": [],
   "source": [
    "import time"
   ]
  },
  {
   "cell_type": "code",
   "execution_count": 3,
   "metadata": {},
   "outputs": [],
   "source": [
    "with open(\"./data/books_published_last_two_years.txt\") as file:\n",
    "    recent_books = file.read().split(\"\\n\")\n",
    "    \n",
    "with open(\"./data/all_coding_books.txt\") as file: \n",
    "    coding_books = file.read().split(\"\\n\")"
   ]
  },
  {
   "cell_type": "code",
   "execution_count": 4,
   "metadata": {},
   "outputs": [
    {
     "name": "stdout",
     "output_type": "stream",
     "text": [
      "Length recent_books: 24159\n",
      "Length coding_books: 32250\n"
     ]
    }
   ],
   "source": [
    "print(\"Length recent_books:\", len(recent_books))\n",
    "print(\"Length coding_books:\", len(coding_books))"
   ]
  },
  {
   "cell_type": "markdown",
   "metadata": {},
   "source": [
    "### 1st method : naive double loop"
   ]
  },
  {
   "cell_type": "code",
   "execution_count": 5,
   "metadata": {},
   "outputs": [
    {
     "name": "stdout",
     "output_type": "stream",
     "text": [
      "Duration: 15.4991\n",
      "\n",
      "No. of recent_coding_books: 96\n"
     ]
    }
   ],
   "source": [
    "start = time.time()\n",
    "recent_coding_books = []\n",
    "\n",
    "for book in recent_books:\n",
    "    if book in coding_books:\n",
    "        recent_coding_books.append(book)\n",
    "        \n",
    "end = time.time()\n",
    "print(\"Duration: {:.4f}\".format(end-start))\n",
    "print(\"\\nNo. of recent_coding_books:\", len(recent_coding_books))"
   ]
  },
  {
   "cell_type": "markdown",
   "metadata": {},
   "source": [
    "### 2nd method : numpy intersect"
   ]
  },
  {
   "cell_type": "markdown",
   "metadata": {},
   "source": [
    "Numpy's `intersect1d` method can be used to get the intersection of the `recent_books` and `coding_books`arrays. \n",
    "\n",
    "- `intersect1d`: Find the intersection of two arrays. Return the sorted, unique values that are in both of the input arrays. \n",
    "```python\n",
    ">>> numpy.intersect1d([1,2,3], [3,1,1])\n",
    "array([1,3])\n",
    "```\n",
    "- [link](https://docs.scipy.org/doc/numpy/reference/generated/numpy.intersect1d.html)"
   ]
  },
  {
   "cell_type": "code",
   "execution_count": 6,
   "metadata": {},
   "outputs": [
    {
     "name": "stdout",
     "output_type": "stream",
     "text": [
      "Duration: 0.0431\n",
      "\n",
      "No. of recent_coding_books: 96\n"
     ]
    }
   ],
   "source": [
    "start = time.time()\n",
    "recent_coding_books = np.intersect1d(recent_books, coding_books)\n",
    "end = time.time()\n",
    "print(\"Duration: {:.4f}\".format(end-start))\n",
    "print(\"\\nNo. of recent_coding_books:\", len(recent_coding_books))"
   ]
  },
  {
   "cell_type": "markdown",
   "metadata": {},
   "source": [
    "### 3rd method : set intersect"
   ]
  },
  {
   "cell_type": "markdown",
   "metadata": {},
   "source": [
    "What is a set ? [link](https://docs.python.org/2/library/sets.html)"
   ]
  },
  {
   "cell_type": "code",
   "execution_count": 7,
   "metadata": {},
   "outputs": [
    {
     "name": "stdout",
     "output_type": "stream",
     "text": [
      "Duration: 0.0108\n",
      "\n",
      "No. of recent_coding_books: 96\n"
     ]
    }
   ],
   "source": [
    "start = time.time()\n",
    "recent_coding_books = set(recent_books).intersection(coding_books)\n",
    "end = time.time()\n",
    "print(\"Duration: {:.4f}\".format(end-start))\n",
    "print(\"\\nNo. of recent_coding_books:\", len(recent_coding_books))"
   ]
  },
  {
   "cell_type": "code",
   "execution_count": 8,
   "metadata": {},
   "outputs": [
    {
     "name": "stdout",
     "output_type": "stream",
     "text": [
      "Duration: 0.0106\n",
      "\n",
      "No. of recent_coding_books: 96\n"
     ]
    }
   ],
   "source": [
    "# with set conversion\n",
    "start = time.time()\n",
    "recent_coding_books = set(recent_books).intersection(set(coding_books))\n",
    "end = time.time()\n",
    "print(\"Duration: {:.4f}\".format(end-start))\n",
    "print(\"\\nNo. of recent_coding_books:\", len(recent_coding_books))"
   ]
  },
  {
   "cell_type": "markdown",
   "metadata": {},
   "source": [
    "__Note__: We do not need to convert the 2nd list to a set and doing it actually makes the computation longer "
   ]
  },
  {
   "cell_type": "markdown",
   "metadata": {},
   "source": [
    "# Quiz: Optimizing - Holiday Gifts\n",
    "\n",
    "- Using vectorized operations and more efficient data structures can optimize the code significantly. \n",
    "\n",
    "We'll use this for another example. \n",
    "\n",
    "- One million users have listed a gift on a wish list. \n",
    "- Prices: `gift_costs.txt`\n",
    "- Give each customer gift for free if it is under 25 dollars. \n",
    "- Calculate total costs of all gifts under 25 dollars to see total costs.\n",
    "\n",
    "General notes:\n",
    "\n",
    "- Check type of your data\n",
    "- What type of data do you want? In general, numpy arrays are nice to work with and they are fast. "
   ]
  },
  {
   "cell_type": "markdown",
   "metadata": {},
   "source": [
    "### Set data type"
   ]
  },
  {
   "cell_type": "code",
   "execution_count": 9,
   "metadata": {},
   "outputs": [],
   "source": [
    "# load data\n",
    "with open(\"./data/gift_costs.txt\") as f:\n",
    "    gift_costs_raw = f.read().split(\"\\n\")"
   ]
  },
  {
   "cell_type": "code",
   "execution_count": 10,
   "metadata": {},
   "outputs": [
    {
     "name": "stdout",
     "output_type": "stream",
     "text": [
      "Costs are stored as <class 'str'>\n"
     ]
    }
   ],
   "source": [
    "print(\"Costs are stored as \" + str(type(gift_costs_raw[0])))"
   ]
  },
  {
   "cell_type": "code",
   "execution_count": 11,
   "metadata": {},
   "outputs": [
    {
     "name": "stdout",
     "output_type": "stream",
     "text": [
      "Costs are stored as <class 'numpy.int64'>\n"
     ]
    }
   ],
   "source": [
    "# We convert the costs as integer\n",
    "gift_costs = np.array(gift_costs_raw).astype(int)\n",
    "print(\"Costs are stored as \" + str(type(gift_costs[0])))"
   ]
  },
  {
   "cell_type": "markdown",
   "metadata": {},
   "source": [
    "### First Method"
   ]
  },
  {
   "cell_type": "code",
   "execution_count": null,
   "metadata": {},
   "outputs": [],
   "source": [
    "# first method\n",
    "start = time.time()\n",
    "\n",
    "total_price = 0\n",
    "\n",
    "for cost in gift_costs:\n",
    "    if cost < 25:\n",
    "        total_price += cost*1.08 # cost after tax\n",
    "\n",
    "end = time.time()\n",
    "\n",
    "print(round(total_price,2))\n",
    "print(\"Duration: {:.4f} seconds\".format(end-start))"
   ]
  },
  {
   "cell_type": "markdown",
   "metadata": {},
   "source": [
    "### 2nd Method : conditionnal numpy"
   ]
  },
  {
   "cell_type": "code",
   "execution_count": 13,
   "metadata": {},
   "outputs": [
    {
     "name": "stdout",
     "output_type": "stream",
     "text": [
      "32765421.24\n",
      "Duration: 0.6012 seconds\n"
     ]
    }
   ],
   "source": [
    "# 2nd method\n",
    "start = time.time()\n",
    "\n",
    "total_price = sum(gift_costs[gift_costs<25])*1.08\n",
    "\n",
    "end = time.time()\n",
    "\n",
    "print(round(total_price,2))\n",
    "print(\"Duration: {:.4f} seconds\".format(end-start))"
   ]
  },
  {
   "cell_type": "markdown",
   "metadata": {},
   "source": [
    "### 3rd Method : conditionnal numpy + `.sum()` method"
   ]
  },
  {
   "cell_type": "code",
   "execution_count": 14,
   "metadata": {},
   "outputs": [
    {
     "name": "stdout",
     "output_type": "stream",
     "text": [
      "32765421.24\n",
      "Duration: 0.0701 seconds\n"
     ]
    }
   ],
   "source": [
    "# 3rd method : conditionnal numpy\n",
    "start = time.time()\n",
    "\n",
    "total_price = gift_costs[gift_costs<25].sum()*1.08\n",
    "\n",
    "end = time.time()\n",
    "\n",
    "print(round(total_price,2))\n",
    "print(\"Duration: {:.4f} seconds\".format(end-start))"
   ]
  }
 ],
 "metadata": {
  "kernelspec": {
   "display_name": "Python 3",
   "language": "python",
   "name": "python3"
  },
  "language_info": {
   "codemirror_mode": {
    "name": "ipython",
    "version": 3
   },
   "file_extension": ".py",
   "mimetype": "text/x-python",
   "name": "python",
   "nbconvert_exporter": "python",
   "pygments_lexer": "ipython3",
   "version": "3.8.3"
  }
 },
 "nbformat": 4,
 "nbformat_minor": 4
}
